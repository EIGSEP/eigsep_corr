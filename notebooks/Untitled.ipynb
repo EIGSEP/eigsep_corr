{
 "cells": [
  {
   "cell_type": "code",
   "execution_count": 1,
   "id": "807c62f6-7eae-4b08-b415-8dd39ffb57bc",
   "metadata": {},
   "outputs": [],
   "source": [
    "import numpy as np\n",
    "import matplotlib.pyplot as plt\n",
    "%matplotlib notebook"
   ]
  },
  {
   "cell_type": "code",
   "execution_count": null,
   "id": "5fc92f9f-1812-4f82-b696-df69c45a808f",
   "metadata": {},
   "outputs": [],
   "source": [
    "d = np.load(, allow_pickle=True)\n",
    "d.files\n",
    "d1 = d[\"503\"][()]"
   ]
  }
 ],
 "metadata": {
  "kernelspec": {
   "display_name": "Python 3 (ipykernel)",
   "language": "python",
   "name": "python3"
  },
  "language_info": {
   "codemirror_mode": {
    "name": "ipython",
    "version": 3
   },
   "file_extension": ".py",
   "mimetype": "text/x-python",
   "name": "python",
   "nbconvert_exporter": "python",
   "pygments_lexer": "ipython3",
   "version": "3.10.12"
  }
 },
 "nbformat": 4,
 "nbformat_minor": 5
}
