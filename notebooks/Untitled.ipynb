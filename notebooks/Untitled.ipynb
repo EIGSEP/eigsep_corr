{
 "cells": [
  {
   "cell_type": "code",
   "execution_count": 2,
   "id": "807c62f6-7eae-4b08-b415-8dd39ffb57bc",
   "metadata": {},
   "outputs": [],
   "source": [
    "import numpy as np\n",
    "import matplotlib.pyplot as plt\n",
    "%matplotlib notebook"
   ]
  },
  {
   "cell_type": "code",
   "execution_count": 9,
   "id": "5fc92f9f-1812-4f82-b696-df69c45a808f",
   "metadata": {},
   "outputs": [
    {
     "name": "stdout",
     "output_type": "stream",
     "text": [
      "['503', '504', '505', '506', '507', '508', '509', '510', '511', '512', '513', '514', '515', '516', '517', '518', '519', '520', '521', '522', '523', '524', '525', '526', '527', '528', '529', '530', '531', '532', '533', '534', '535', '536', '537', '538', '539', '540', '541', '542', '543', '544', '545', '546', '547', '548', '549', '550', '551', '552', '553', '554', '555', '556', '557', '558', '559', '560', '561', '562', '563']\n",
      "['0', '1', '2', '3', '4', '5', '02', '13', '24', '35', '04', '15']\n"
     ]
    }
   ],
   "source": [
    "# loading a data file\n",
    "d = np.load(\"20231003_170532.npz\", allow_pickle=True)  # need to use allow_pickle\n",
    "print(d.files)  # list the datasets in the file, each one is labeled by the acc count\n",
    "d503 = d[\"503\"][()]  # access a certain dataset as a python dictionary\n",
    "print(list(d503.keys()))  # the keys are the correlationsb"
   ]
  },
  {
   "cell_type": "code",
   "execution_count": null,
   "id": "c8e452c3-d69f-4ddc-87e9-a70ea7741948",
   "metadata": {},
   "outputs": [],
   "source": [
    "# write this function!\n",
    "plot.plot_from_file()"
   ]
  }
 ],
 "metadata": {
  "kernelspec": {
   "display_name": "Python 3 (ipykernel)",
   "language": "python",
   "name": "python3"
  },
  "language_info": {
   "codemirror_mode": {
    "name": "ipython",
    "version": 3
   },
   "file_extension": ".py",
   "mimetype": "text/x-python",
   "name": "python",
   "nbconvert_exporter": "python",
   "pygments_lexer": "ipython3",
   "version": "3.10.12"
  }
 },
 "nbformat": 4,
 "nbformat_minor": 5
}
